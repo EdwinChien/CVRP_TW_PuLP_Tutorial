{
 "cells": [
  {
   "cell_type": "markdown",
   "metadata": {
    "colab_type": "text",
    "id": "f9b5hOFelqrY"
   },
   "source": [
    "# **This tutorial is written by Chun Lin, Chien on 2020/05/02.**\n",
    "# **Topic : Vehicle Routing Problem with Capacity limitation and Time window.**\n",
    "# © Chun-Lin Chien (2020)\n",
    "---\n",
    "```\n",
    "P.S : If you use this CVRP_TW python code or refer the result in your research, please cite this tutorial.\n",
    "      ( e.g, python PuLP tutorial for CVRP_TW (Chien, 2020) ).\n",
    "```\n",
    "---"
   ]
  },
  {
   "cell_type": "markdown",
   "metadata": {
    "colab_type": "text",
    "id": "mZ1XW45b8dXe"
   },
   "source": [
    "# **// Preprocess for accessing google dirve and installing PuLP module. //**"
   ]
  },
  {
   "cell_type": "markdown",
   "metadata": {
    "colab_type": "text",
    "id": "gAuEYNBll09r"
   },
   "source": [
    "## Pre 1. Access google drive and change dir to ./Vehicle Routing Problem."
   ]
  },
  {
   "cell_type": "code",
   "execution_count": 1,
   "metadata": {
    "colab": {
     "base_uri": "https://localhost:8080/"
    },
    "colab_type": "code",
    "executionInfo": {
     "elapsed": 235473,
     "status": "ok",
     "timestamp": 1589960565195,
     "user": {
      "displayName": "簡君麟",
      "photoUrl": "",
      "userId": "04416495961999751901"
     },
     "user_tz": -480
    },
    "id": "GCXI361xk27c",
    "outputId": "8ea51958-6c8c-40cc-8dd4-37f850ae2bd5"
   },
   "outputs": [],
   "source": [
    "import os\n",
    "from google.colab import drive\n",
    "drive.mount('/content/drive/')\n",
    "data_dir = \"/content/drive/My Drive/Vehicle Routing Problem\"\n",
    "os.chdir(data_dir)"
   ]
  },
  {
   "cell_type": "markdown",
   "metadata": {
    "colab_type": "text",
    "id": "3rEs4uNimGyx"
   },
   "source": [
    "## Pre 2. Install PuLP in your COLAB VM."
   ]
  },
  {
   "cell_type": "code",
   "execution_count": 2,
   "metadata": {
    "colab": {
     "base_uri": "https://localhost:8080/"
    },
    "colab_type": "code",
    "executionInfo": {
     "elapsed": 244381,
     "status": "ok",
     "timestamp": 1589960574221,
     "user": {
      "displayName": "簡君麟",
      "photoUrl": "",
      "userId": "04416495961999751901"
     },
     "user_tz": -480
    },
    "id": "grUe2ExFlOkE",
    "outputId": "4e001bdd-04a6-4f44-cc2d-a344dbc46dcb"
   },
   "outputs": [],
   "source": [
    "! pip install pulp"
   ]
  },
  {
   "cell_type": "markdown",
   "metadata": {
    "colab_type": "text",
    "id": "YMcEhs6eL4pH"
   },
   "source": [
    "# **// Python code. // CVRP_TW ( Multi vehicle type )**"
   ]
  },
  {
   "cell_type": "markdown",
   "metadata": {
    "colab_type": "text",
    "id": "tyodXnbINBuZ"
   },
   "source": [
    "## Step 1. Import module."
   ]
  },
  {
   "cell_type": "code",
   "execution_count": 3,
   "metadata": {
    "colab": {},
    "colab_type": "code",
    "id": "zPH59gz6NBuf"
   },
   "outputs": [],
   "source": [
    "import pandas as pd \n",
    "from pulp import *\n",
    "from math import ceil\n",
    "from pandas.core.common import flatten"
   ]
  },
  {
   "cell_type": "markdown",
   "metadata": {
    "colab_type": "text",
    "id": "WITDcKwUNBui"
   },
   "source": [
    "## Step 2. Read cost matrix and parameters from excel file and preprocess data into query format. "
   ]
  },
  {
   "cell_type": "markdown",
   "metadata": {
    "colab_type": "text",
    "id": "sKufWpwtom6e"
   },
   "source": [
    "### Step 2-1. Build data generator."
   ]
  },
  {
   "cell_type": "code",
   "execution_count": 4,
   "metadata": {
    "colab": {},
    "colab_type": "code",
    "id": "Kts0X2ElXTuJ"
   },
   "outputs": [],
   "source": [
    "def data_generator(excel, Cost_matrix, parameter, origin_capa=18):\n",
    "    '''  \n",
    "    This function will return a python dictionarys which contains cost matirx for each node to each node by each vehicle and few data (i.e., cost_matrix, data).\\n   \n",
    "    The explaination of each function parameter is shown as following comments.\n",
    "    1. excel = excel file.\n",
    "    2. Cost_matrix = The sheet name which contain cost matrix.\n",
    "    3. parameter = The sheet name which contain parameter such as vehicle capacity (i.e., column = VCAP) and demand (i.e., column = Q).\n",
    "    4. capacity_unit_cost = The unit cost of each capacity unit, the default value is 200.\n",
    "    Hint：data . keys( ) = [ ' location ', ' demand ', ' capacity ' ]\n",
    "    '''\n",
    "    # Read Excel file.\n",
    "    dataframe = pd.ExcelFile(excel)\n",
    "    sheet_1, sheet_2 = dataframe.parse(Cost_matrix), dataframe.parse(parameter)\n",
    "\n",
    "    # Initial data dictionary.\n",
    "    data = {}\n",
    "\n",
    "    # Main parameters.\n",
    "    data['location'] = list(sheet_1.columns[1:].dropna())\n",
    "    data['demand'] = sheet_2['Demand'].dropna()\n",
    "    data['capacity'] = list(sheet_2['Capacity'].dropna().astype('int32'))\n",
    "\n",
    "    # Time window parameters.\n",
    "    data['earliest'] = sheet_2['Earliest time'].dropna()\n",
    "    data['latest'] = sheet_2['Latest time'].dropna()\n",
    "    data['duration'] = sheet_2['stop_duration'].dropna()\n",
    "    data['TPM'] = sheet_2['Time Per Mile'].dropna().astype('float32')\n",
    "\n",
    "    # Cost matrix (distance or time). Each vehicle has its own cost matrix.\n",
    "    cost_matrix = {}\n",
    "    for city_O in range(data['location'].__len__()):\n",
    "        for city_D, cost in enumerate(sheet_1.loc[city_O,data['location']]):\n",
    "            for idx, capacity in enumerate(data['capacity']):\n",
    "                if city_O != city_D:\n",
    "                    cost_matrix.update({'{}_{}_{}'.format(str(city_O), str(city_D), str(idx)): ceil(cost*(capacity/origin_capa))})\n",
    "    data['cost_matrix']=cost_matrix\n",
    "    \n",
    "    # Distance matirx.\n",
    "    dist_matirx = {}\n",
    "    for city_O in range(data['location'].__len__()):\n",
    "        for city_D, cost in enumerate(sheet_1.loc[city_O,data['location']]):\n",
    "            if city_O != city_D:\n",
    "                dist_matirx.update({'{}_{}'.format(str(city_O), str(city_D)): int(cost)})\n",
    "    data['distance'] = dist_matirx\n",
    "\n",
    "    return data            "
   ]
  },
  {
   "cell_type": "markdown",
   "metadata": {
    "colab_type": "text",
    "id": "jG2c_-Hnow3Y"
   },
   "source": [
    "### Step 2-2. Call data generator."
   ]
  },
  {
   "cell_type": "code",
   "execution_count": 5,
   "metadata": {
    "colab": {},
    "colab_type": "code",
    "id": "cVd4Vb3UYthI"
   },
   "outputs": [],
   "source": [
    "excel = 'The Vehicle Routing Problem.xlsx' # Excel file name.\n",
    "Cost_matrix = 'cost_matrix_2' # Sheet name of cost matrix.\n",
    "parameter = 'parameter_2' # Sheet name of parameter.\n",
    "#////////////////////////////////////////////////////////////////#\n",
    "data  = data_generator(excel, Cost_matrix, parameter) # data.keys() = 'location', 'demand', 'capacity', 'cost_matrix'"
   ]
  },
  {
   "cell_type": "code",
   "execution_count": 6,
   "metadata": {
    "colab": {},
    "colab_type": "code",
    "id": "keo0G1NVpjH4"
   },
   "outputs": [],
   "source": [
    "vehicle_num = data['capacity'].__len__() # Vehicle number is define by the length of capacity data. \n",
    "cost_matrix = data['cost_matrix'] # Just for coding convenience...haha."
   ]
  },
  {
   "cell_type": "markdown",
   "metadata": {
    "colab_type": "text",
    "id": "3e_pac7hjwQ6"
   },
   "source": [
    "## Step 3. Initial parameters and variables."
   ]
  },
  {
   "cell_type": "code",
   "execution_count": 7,
   "metadata": {
    "colab": {
     "base_uri": "https://localhost:8080/",
     "height": 34
    },
    "colab_type": "code",
    "executionInfo": {
     "elapsed": 244759,
     "status": "ok",
     "timestamp": 1589960574635,
     "user": {
      "displayName": "簡君麟",
      "photoUrl": "",
      "userId": "04416495961999751901"
     },
     "user_tz": -480
    },
    "id": "u8cURhicO7kE",
    "outputId": "d9ae2559-895a-45a3-cf32-aee29815aa9d"
   },
   "outputs": [
    {
     "name": "stdout",
     "output_type": "stream",
     "text": [
      "The least of query vehicle number = 3 units.\n"
     ]
    }
   ],
   "source": [
    "# Minimum no. vehicles required, fractional and rounded.\n",
    "min_vehicle = ceil( data['demand'].sum() / (sum(data['capacity'])/vehicle_num) )\n",
    "print('The least of query vehicle number = {} units.'.format(min_vehicle))\n",
    "\n",
    "# Decision variables.\n",
    "x = LpVariable.dicts('x', [i for i in cost_matrix.keys()], lowBound=0, upBound=1, cat='Binary')\n",
    "\n",
    "# Dummy variable.\n",
    "#   Accumulated delivers at city k.\n",
    "u = LpVariable.dicts('u', [f\"{i}_{j}\" for i in range(data['location'].__len__()) for j in range(vehicle_num)], lowBound=0, upBound=max(data['capacity']), cat='Integer')\n",
    "#   Arrival time at city k.\n",
    "t = LpVariable.dicts('t', [f\"{i}\" for i in range(data['location'].__len__())], lowBound=0, cat='Integer')"
   ]
  },
  {
   "cell_type": "markdown",
   "metadata": {
    "colab_type": "text",
    "id": "El7P3oYPl28P"
   },
   "source": [
    "## Step 4. Initial optimal problem."
   ]
  },
  {
   "cell_type": "markdown",
   "metadata": {
    "colab_type": "text",
    "id": "yQzEtFDnCC2N"
   },
   "source": [
    "### Step 4-1. Problem type and Objective function."
   ]
  },
  {
   "cell_type": "code",
   "execution_count": 8,
   "metadata": {
    "colab": {},
    "colab_type": "code",
    "id": "5GWPjbFMB_vh"
   },
   "outputs": [],
   "source": [
    "# The problem type is minimized problem.\n",
    "prob = LpProblem('Capacity_Vehicle_Routing_Proble', LpMinimize)\n",
    "\n",
    "# Objective function.\n",
    "prob += lpSum( x[key] * cost_matrix[key] for key in cost_matrix.keys() )"
   ]
  },
  {
   "cell_type": "markdown",
   "metadata": {
    "colab_type": "text",
    "id": "3ENFCnjuCKpy"
   },
   "source": [
    "### Step 4-2. Vehicle and Capacity constraints."
   ]
  },
  {
   "cell_type": "code",
   "execution_count": 9,
   "metadata": {
    "colab": {},
    "colab_type": "code",
    "id": "SHiV52v1llTX"
   },
   "outputs": [],
   "source": [
    "# Set the vehicle minimal volume. \n",
    "prob += lpSum( x[i] for i in cost_matrix.keys() if (i.split('_')[0]=='0') ) >= min_vehicle\n",
    "\n",
    "# Must send enough vehicles out of depot.\n",
    "#   HINT: (1)x_0_1_0 + x_0_2_0 + ... + x_0_n_0 <= 1\n",
    "for vehicle in range(vehicle_num):\n",
    "    prob += lpSum( x[i] for i in cost_matrix.keys() if (i.split('_')[0]=='0') and (i.split('_')[2]==str(vehicle)) ) <= 1\n",
    "\n",
    "# The departure vehicle must be the return vehicle.\n",
    "for i in range(vehicle_num):\n",
    "#   HINT: x_0_1_0 - x_1_0_0 = 0\n",
    "    for O in range(len(data['location'])):\n",
    "        prob += lpSum( x[f'{O}_{D}_{i}']-x[f'{D}_{O}_{i}'] for D in range(len(data['location'])) if O!=D ) == 0\n",
    "\n",
    "# Loop through the city (For each city, except depot).\n",
    "for O in range(1,len(data['location'])):\n",
    "\n",
    "#   A vehicle must enter it.\n",
    "    prob += lpSum( x[i] for i in cost_matrix.keys() if (i.split('_')[0]==f'{O}') and  \n",
    "                   (data['demand'][int(O)]+data['demand'][int(i.split('_')[1])]<=data['capacity'][int(i.split('_')[2])]) ) == 1\n",
    "                   \n",
    "#   A vehicle must leave it after service.\n",
    "    prob += lpSum( x[i] for i in cost_matrix.keys() if (i.split('_')[1]==f'{O}') and  \n",
    "                   (data['demand'][int(O)]+data['demand'][int(i.split('_')[0])]<=data['capacity'][int(i.split('_')[2])]) ) == 1 \n",
    "\n",
    "#   The accumulated delivers at city O is at least amount needed at O but can't exceed capacity.\n",
    "    prob += lpSum( u[f'{O}_{i}'] for i in range(vehicle_num) ) >= data['demand'][O]\n",
    "    for i in range(vehicle_num): prob += u[f'{O}_{i}'] <= data['capacity'][i]\n",
    "\n",
    "#   If O follows D, then can bound U(O) - U(D).\n",
    "    for D in range(1, len(data['location'])):\n",
    "        if O!=D :\n",
    "            for i in range(vehicle_num):\n",
    "                Vcap = data['capacity'][i]\n",
    "                demand_O = data['demand'][O]\n",
    "                demand_D = data['demand'][D]\n",
    "                prob += u[f'{O}_{i}'] >= (u[f'{D}_{i}'] + demand_O - Vcap) + Vcap*(x[f'{O}_{D}_{i}']+x[f'{D}_{O}_{i}']) - ((demand_O+demand_D)*x[f'{O}_{D}_{i}'])\n",
    "\n",
    "#   If O is 1st stop, then accumulated delivers at city O <= Q(O).\n",
    "    for i in range(vehicle_num):\n",
    "        Vcap = data['capacity'][i]\n",
    "        demand = data['demand'][O]\n",
    "        current_node = x[f'0_{O}_{i}']\n",
    "        prob += u[f'{O}_{i}'] <= ( Vcap - ( Vcap - demand) * current_node )\n",
    "\n",
    "#   If O is not 1st stop, then accumulated delivers at city O >= Q(O) + all arrived at city O.\n",
    "    demand = data['demand'][O]\n",
    "    temp = lpSum(u[f'{O}_{i}'] for i in range(vehicle_num)) - lpSum( (x[f'{city}_{O}_{i}'] * data['demand'][city]) for city in range(1,len(data['location'])) if city != O for i in range(vehicle_num) )\n",
    "    prob += temp >= demand"
   ]
  },
  {
   "cell_type": "markdown",
   "metadata": {
    "colab_type": "text",
    "id": "oPvfPCEXCSSk"
   },
   "source": [
    "### Step 4-3. Time window constraints."
   ]
  },
  {
   "cell_type": "code",
   "execution_count": 10,
   "metadata": {
    "colab": {},
    "colab_type": "code",
    "id": "ehEz9mqlCcQ4"
   },
   "outputs": [],
   "source": [
    "T_Max = 99999\n",
    "\n",
    "# Loop through the city (For each city, except depot).\n",
    "for O in range(1,len(data['location'])):\n",
    "\n",
    "    # Time of arrival at O if preceding stop was I.\n",
    "    for I in range(len(data['location'])):\n",
    "        if O != I:\n",
    "            x_agg = lpSum(x[f'{I}_{O}_{i}'] for i in range(vehicle_num))\n",
    "            temp = t[f'{I}'] + ( (data['duration'][I]+data['TPM']*data['distance'][f'{I}_{O}']) * x_agg ) - ( data['latest'][I] * (1-x_agg) )\n",
    "            prob += t[f'{O}'] >= temp\n",
    "\n",
    "    # Must arrive within the [Earliest, Latest] window. They are allowed to wait in order to arrive no earlier than t(O)_(v).\n",
    "    prob += t[f'{O}'] >= data['earliest'][O]\n",
    "    prob += t[f'{O}'] <= data['latest'][O]\n",
    "    \n",
    "    # Max trip time constraint ( T_Max = 99999 ).\n",
    "    prob += t[f'{O}'] + data['duration'][O] + data['TPM']*data['distance'][f'{O}_0']*lpSum( x[f'{O}_0_{i}'] for i in range(vehicle_num) ) <= T_Max"
   ]
  },
  {
   "cell_type": "markdown",
   "metadata": {
    "colab_type": "text",
    "id": "u_66uBeXepPp"
   },
   "source": [
    "## Step 5. Some tricks for solving result."
   ]
  },
  {
   "cell_type": "code",
   "execution_count": 12,
   "metadata": {
    "colab": {
     "base_uri": "https://localhost:8080/"
    },
    "colab_type": "code",
    "executionInfo": {
     "elapsed": 247988,
     "status": "ok",
     "timestamp": 1589960577910,
     "user": {
      "displayName": "簡君麟",
      "photoUrl": "",
      "userId": "04416495961999751901"
     },
     "user_tz": -480
    },
    "id": "x3Pb6q8lsnj1",
    "outputId": "8915bcc6-bfd1-4a06-a702-d7c9d0440de5"
   },
   "outputs": [
    {
     "name": "stdout",
     "output_type": "stream",
     "text": [
      "Wall time: 9.38 s\n"
     ]
    },
    {
     "data": {
      "text/plain": [
       "1"
      ]
     },
     "execution_count": 12,
     "metadata": {},
     "output_type": "execute_result"
    }
   ],
   "source": [
    "%time prob.solve()"
   ]
  },
  {
   "cell_type": "code",
   "execution_count": 13,
   "metadata": {
    "colab": {
     "base_uri": "https://localhost:8080/"
    },
    "colab_type": "code",
    "executionInfo": {
     "elapsed": 247979,
     "status": "ok",
     "timestamp": 1589960577913,
     "user": {
      "displayName": "簡君麟",
      "photoUrl": "",
      "userId": "04416495961999751901"
     },
     "user_tz": -480
    },
    "id": "_sMpsVW4suV2",
    "outputId": "8e177d6d-d911-4536-8e09-7ca99a756011"
   },
   "outputs": [
    {
     "name": "stdout",
     "output_type": "stream",
     "text": [
      "Operation_status = Optimal\n",
      "\n",
      "Optimal_value = 10483.0\n",
      "\n"
     ]
    }
   ],
   "source": [
    "print(\"Operation_status = {}\\n\".format(LpStatus[prob.status]))\n",
    "print(\"Optimal_value = {}\\n\".format(value(prob.objective)))"
   ]
  },
  {
   "cell_type": "code",
   "execution_count": 14,
   "metadata": {
    "colab": {},
    "colab_type": "code",
    "id": "RspYe0bU7ZIA"
   },
   "outputs": [],
   "source": [
    "def get_next(route):\n",
    "    travel = [route[0]]\n",
    "    _range_ = route.__len__()-1\n",
    "    for i in range(_range_):\n",
    "        start = travel[-1].split(\"_\")[1]\n",
    "        temp = [ arc for arc in route if arc.split(\"_\")[0] == start ]\n",
    "        travel.append(temp[0])\n",
    "    return travel"
   ]
  },
  {
   "cell_type": "code",
   "execution_count": 15,
   "metadata": {
    "colab": {},
    "colab_type": "code",
    "id": "wdqD9fNo5BbP"
   },
   "outputs": [],
   "source": [
    "result = [ k for k, v in x.items() if value(v)!=None and value(v)>0 ]\n",
    "\n",
    "route_list = []\n",
    "for i in range(vehicle_num):\n",
    "    route_list.append([ f\"{r.split('_')[0]}_{r.split('_')[1]}\" for r in result if r.split('_')[2] == str(i) ])\n",
    "\n",
    "travel, v_list = [], []\n",
    "for idx, r in enumerate(route_list):\n",
    "    if len(r) != 0:\n",
    "        travel.append(get_next(r))\n",
    "        v_list.append(idx)"
   ]
  },
  {
   "cell_type": "markdown",
   "metadata": {
    "colab_type": "text",
    "id": "D7aEThUXeuwW"
   },
   "source": [
    "## Final Step. Display the result."
   ]
  },
  {
   "cell_type": "code",
   "execution_count": 16,
   "metadata": {
    "colab": {
     "base_uri": "https://localhost:8080/"
    },
    "colab_type": "code",
    "executionInfo": {
     "elapsed": 247958,
     "status": "ok",
     "timestamp": 1589960577924,
     "user": {
      "displayName": "簡君麟",
      "photoUrl": "",
      "userId": "04416495961999751901"
     },
     "user_tz": -480
    },
    "id": "xwAM3hbw5EPn",
    "outputId": "b02fea6d-9f09-492f-e539-e7e2117674b3"
   },
   "outputs": [
    {
     "name": "stdout",
     "output_type": "stream",
     "text": [
      "Operation_status = Optimal\n",
      "\n",
      "Optimal_value = 10483.0\n",
      "\n",
      "● Vehicle — 0 (Total capacity=14) : Chicago (0) -> KC (7) -> Hous (7) -> Chicago (0) →→→ Total volumn of demand = 14 units.\n",
      "● Vehicle — 1 (Total capacity=18) : Chicago (0) -> Den (6) -> Anah (5) -> Frsn (3) -> Oakl (4) -> Chicago (0) →→→ Total volumn of demand = 18 units.\n",
      "● Vehicle — 2 (Total capacity=18) : Chicago (0) -> LA (14) -> LA_2 (4) -> Chicago (0) →→→ Total volumn of demand = 18 units.\n"
     ]
    }
   ],
   "source": [
    "print(\"Operation_status = {}\\n\".format(LpStatus[prob.status]))\n",
    "print(\"Optimal_value = {}\\n\".format(value(prob.objective)))\n",
    "for idx, r in zip(v_list, travel):\n",
    "    print( f\"● Vehicle — {idx} (Total capacity={data['capacity'][idx]}) : \"+' -> '.join( [ data['location'][int(i.split('_')[0])]+\" ({})\".format(str(data['demand'][int(i.split('_')[0])])) for i in r]\n",
    "                                                                                       + [ data['location'][0]+\" ({})\".format(str(data['demand'][0]))]) \n",
    "                                                                                       + \" →→→ Total volumn of demand = {} units.\".format(sum(data['demand'][int(i.split('_')[0])] for i in r)) )"
   ]
  },
  {
   "cell_type": "markdown",
   "metadata": {
    "colab_type": "text",
    "id": "pT_H4tmQA2lf"
   },
   "source": [
    "# **// Appendix : Result record. //**"
   ]
  },
  {
   "cell_type": "markdown",
   "metadata": {
    "colab_type": "text",
    "id": "zLVrcG2MAVFe"
   },
   "source": [
    "CVRP ( Max capacity = 18 )\n",
    "\n",
    "Duration = 427 ms\n",
    "\n",
    "Shortest distance = 10987.0\n",
    "\n",
    "Vehicle — 0 : Chicago (0) -> Hous (7) -> KC (7) -> Chicago (0) →→→ Total demand = 14 units.\n",
    "\n",
    "Vehicle — 1 : Chicago (0) -> LA (18) -> Chicago (0) →→→ Total demand = 18 units.\n",
    "\n",
    "Vehicle — 2 : Chicago (0) -> Oakl (4) -> Frsn (3) -> Anah (5) -> Den (6) -> Chicago (0) →→→ Total demand = 18 units."
   ]
  },
  {
   "cell_type": "markdown",
   "metadata": {
    "colab_type": "text",
    "id": "Q2HKIKfl_dcg"
   },
   "source": [
    "CVRP ( Multi-Vehicle capacity )\n",
    "\n",
    "Duration = 15.5 s\n",
    "\n",
    "Shortest distance = 10483.0\n",
    "\n",
    "● Vehicle — 0 (Total capacity=14) : Chicago (0) -> Hous (7) -> KC (7) -> Chicago (0) →→→ Total demand = 14 units.\n",
    "\n",
    "● Vehicle — 1 (Total capacity=18) : Chicago (0) -> Oakl (4) -> Frsn (3) -> Anah (5) -> Den (6) -> Chicago (0) →→→ Total demand = 18 units.\n",
    "\n",
    "● Vehicle — 2 (Total capacity=18) : Chicago (0) -> LA (14) -> LA_2 (4) -> Chicago (0) →→→ Total demand = 18 units."
   ]
  },
  {
   "cell_type": "markdown",
   "metadata": {
    "colab_type": "text",
    "id": "2PXFu4ntBEJG"
   },
   "source": [
    "CVRP_TW ( Multi-Vehicle capacity )\n",
    "\n",
    "Duration = 2.62 s\n",
    "\n",
    "Shortest distance = 10483.0\n",
    "\n",
    "● Vehicle — 0 (Total capacity=14) : Chicago (0) -> Hous (7) -> KC (7) -> Chicago (0) →→→ Total demand = 14 units.\n",
    "\n",
    "● Vehicle — 1 (Total capacity=18) : Chicago (0) -> Den (6) -> Anah (5) -> Frsn (3) -> Oakl (4) -> Chicago (0) →→→ Total demand = 18 units.\n",
    "\n",
    "● Vehicle — 2 (Total capacity=18) : Chicago (0) -> LA_2 (4) -> LA (14) -> Chicago (0) →→→ Total demand = 18 units."
   ]
  }
 ],
 "metadata": {
  "colab": {
   "collapsed_sections": [
    "mZ1XW45b8dXe",
    "gAuEYNBll09r",
    "3rEs4uNimGyx",
    "YMcEhs6eL4pH",
    "tyodXnbINBuZ",
    "WITDcKwUNBui",
    "sKufWpwtom6e",
    "jG2c_-Hnow3Y",
    "3e_pac7hjwQ6",
    "El7P3oYPl28P",
    "yQzEtFDnCC2N",
    "3ENFCnjuCKpy",
    "oPvfPCEXCSSk",
    "u_66uBeXepPp",
    "D7aEThUXeuwW",
    "pT_H4tmQA2lf"
   ],
   "name": "CVRP_multi_vehicle_type.ipynb",
   "provenance": []
  },
  "kernelspec": {
   "display_name": "Python 3",
   "language": "python",
   "name": "python3"
  },
  "language_info": {
   "codemirror_mode": {
    "name": "ipython",
    "version": 3
   },
   "file_extension": ".py",
   "mimetype": "text/x-python",
   "name": "python",
   "nbconvert_exporter": "python",
   "pygments_lexer": "ipython3",
   "version": "3.7.4"
  }
 },
 "nbformat": 4,
 "nbformat_minor": 1
}
